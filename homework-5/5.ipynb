{
 "cells": [
  {
   "cell_type": "markdown",
   "id": "0fd39542",
   "metadata": {},
   "source": [
    "## Домашнее задание 5\n",
    "Голосная Мария, НПМбд-01-19"
   ]
  },
  {
   "cell_type": "code",
   "execution_count": 133,
   "id": "c83d8bc3",
   "metadata": {},
   "outputs": [],
   "source": [
    "import numpy as np\n",
    "import scipy.linalg"
   ]
  },
  {
   "cell_type": "markdown",
   "id": "38ab7a4f",
   "metadata": {},
   "source": [
    "## LU-разложение\n",
    "Матрицу А можно представить в виде произведения нижнетреугольной матрицы L с единичной диагональю и верхнетреугольной матрицы U."
   ]
  },
  {
   "cell_type": "code",
   "execution_count": 134,
   "id": "302a3244",
   "metadata": {},
   "outputs": [],
   "source": [
    "def LU(a):\n",
    "    a = np.array(a)\n",
    "    n = len(a)\n",
    "    l = np.eye(n)\n",
    "    u = np.zeros((n, n))\n",
    "    u[0, :] = a[0, :]\n",
    "    l[:, 0] = a[:, 0] / u[0][0]\n",
    "    for i in range(1, n):\n",
    "        u[i, i] = a[i, i] - l[i, :] @ u[:, i]\n",
    "        if i != n - 1:\n",
    "            u[i, i + 1:] = a[i, i + 1] - l[i, :] @ u[:, i + 1]\n",
    "            l[i + 1:, i] = (a[i + 1, i] - l[i + 1, :] @ u[:, i]) / u[i, i]\n",
    "    return l, u"
   ]
  },
  {
   "cell_type": "markdown",
   "id": "ab6b1410",
   "metadata": {},
   "source": [
    "Решение СЛУ Аx=b сводится к решению следующих систем: Ly=b, Ux=y."
   ]
  },
  {
   "cell_type": "code",
   "execution_count": 135,
   "id": "8f9b08db",
   "metadata": {},
   "outputs": [],
   "source": [
    "def solve_LU(a, b):\n",
    "    a = np.array(a)\n",
    "    b = np.array(b)\n",
    "    n = len(a)\n",
    "    l, u = LU(a)\n",
    "    y = np.zeros(n)\n",
    "    x = np.zeros(n)\n",
    "    y[0] = b[0]\n",
    "    for i in range(1, n):\n",
    "        y[i] = b[i] - l[i, :i] @ y[:i]\n",
    "    x[-1] = y[-1] / u[-1, -1]\n",
    "    for j in range(n - 1, -1, -1):\n",
    "        x[j] = (y[j] - u[j, j + 1:] @ x[j + 1:]) / u[j, j]\n",
    "    return x"
   ]
  },
  {
   "cell_type": "markdown",
   "id": "10ed0a78",
   "metadata": {},
   "source": [
    "## LUP-разложение\n",
    "Матрицу А можно представить в виде произведения PА=LU, где L - нижнетреугольная матрица с единичной диагональю, U - верхнетреугольная матрица, P - матрица перестановок, полученная из единичной матрицы."
   ]
  },
  {
   "cell_type": "code",
   "execution_count": 136,
   "id": "7850dd0f",
   "metadata": {},
   "outputs": [],
   "source": [
    "def LUP(a):\n",
    "    a = np.array(a, dtype=float)\n",
    "    n = len(a)\n",
    "    u = np.copy(a)\n",
    "    l = np.zeros((n, n))\n",
    "    p = np.eye(n)\n",
    "    for i in range(n):\n",
    "        m = np.argmax(abs(u[i:, i])) + i\n",
    "        if m != i:\n",
    "            u[i], u[m] = u[m], np.copy(u[i])\n",
    "            l[i], l[m] = l[m], np.copy(l[i])\n",
    "            p[i], p[m] = p[m], np.copy(p[i])\n",
    "        l[i + 1:, i] = u[i + 1:, i] / u[i, i]\n",
    "        u[i + 1:] -= l[i + 1:, i].reshape((n - i - 1, 1)) * u[i]\n",
    "    l += np.eye(n)\n",
    "    return l, u, p"
   ]
  },
  {
   "cell_type": "markdown",
   "id": "1da6cb65",
   "metadata": {},
   "source": [
    "Решение СЛУ Аx=b сводится к решению следующих систем: Ly=Pb, Ux=y."
   ]
  },
  {
   "cell_type": "code",
   "execution_count": 138,
   "id": "027a289a",
   "metadata": {},
   "outputs": [],
   "source": [
    "def solve_LUP(a, b):\n",
    "    a = np.array(a)\n",
    "    b = np.array(b)\n",
    "    n = len(a)\n",
    "    l, u, p = LUP(a)\n",
    "    y = np.zeros(n)\n",
    "    x = np.zeros(n)\n",
    "    y[0] = (p @ b)[0]\n",
    "    for i in range(1, n):\n",
    "        y[i] = (p @ b)[i] - l[i, :i] @ y[:i]\n",
    "    x[-1] = y[-1] / u[-1, -1]\n",
    "    for j in range(n - 1, -1, -1):\n",
    "        x[j] = (y[j] - u[j, j + 1:] @ x[j + 1:]) / u[j, j]\n",
    "    return x"
   ]
  },
  {
   "cell_type": "markdown",
   "id": "bf10cfdb",
   "metadata": {},
   "source": [
    "## Проверка"
   ]
  },
  {
   "cell_type": "code",
   "execution_count": 141,
   "id": "a2f54de4",
   "metadata": {},
   "outputs": [
    {
     "name": "stdout",
     "output_type": "stream",
     "text": [
      "[0.31914894 0.04255319 0.12765957]\n"
     ]
    }
   ],
   "source": [
    "a = [[4, 2, 5], [3, -2, 1], [7, 9, 3]]\n",
    "b = [[2], [1], [3]]\n",
    "solve_LU(a, b)"
   ]
  },
  {
   "cell_type": "code",
   "execution_count": 143,
   "id": "fae9b66e",
   "metadata": {},
   "outputs": [
    {
     "data": {
      "text/plain": [
       "array([0.31914894, 0.04255319, 0.12765957])"
      ]
     },
     "execution_count": 143,
     "metadata": {},
     "output_type": "execute_result"
    }
   ],
   "source": [
    "solve_LUP(a, b)"
   ]
  },
  {
   "cell_type": "code",
   "execution_count": 142,
   "id": "72e6e2fe",
   "metadata": {},
   "outputs": [
    {
     "data": {
      "text/plain": [
       "array([[0.31914894],\n",
       "       [0.04255319],\n",
       "       [0.12765957]])"
      ]
     },
     "execution_count": 142,
     "metadata": {},
     "output_type": "execute_result"
    }
   ],
   "source": [
    "scipy.linalg.solve(a, b)"
   ]
  },
  {
   "cell_type": "code",
   "execution_count": null,
   "id": "a291cde1",
   "metadata": {},
   "outputs": [],
   "source": []
  }
 ],
 "metadata": {
  "kernelspec": {
   "display_name": "Python 3",
   "language": "python",
   "name": "python3"
  },
  "language_info": {
   "codemirror_mode": {
    "name": "ipython",
    "version": 3
   },
   "file_extension": ".py",
   "mimetype": "text/x-python",
   "name": "python",
   "nbconvert_exporter": "python",
   "pygments_lexer": "ipython3",
   "version": "3.8.8"
  }
 },
 "nbformat": 4,
 "nbformat_minor": 5
}
